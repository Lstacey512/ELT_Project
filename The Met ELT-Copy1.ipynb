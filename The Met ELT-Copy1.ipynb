{
 "cells": [
  {
   "cell_type": "code",
   "execution_count": 1,
   "metadata": {},
   "outputs": [],
   "source": [
    "import pandas as pd"
   ]
  },
  {
   "cell_type": "code",
   "execution_count": 3,
   "metadata": {},
   "outputs": [
    {
     "name": "stderr",
     "output_type": "stream",
     "text": [
      "C:\\Users\\Leanne\\Anaconda2\\envs\\PythonData\\lib\\site-packages\\IPython\\core\\interactiveshell.py:3057: DtypeWarning: Columns (7,8,9,10,11,18,27,28,29,30,31,32,33,34,35,36,37,39) have mixed types. Specify dtype option on import or set low_memory=False.\n",
      "  interactivity=interactivity, compiler=compiler, result=result)\n"
     ]
    }
   ],
   "source": [
    "##Read in csv \n",
    "met_df = pd.read_csv('D:\\MetObjects.csv')"
   ]
  },
  {
   "cell_type": "code",
   "execution_count": 4,
   "metadata": {},
   "outputs": [],
   "source": [
    "#Create a list of the columns we want to pull, based on the db schema created\n",
    "columns = ['Department', 'Object Name', 'Title', 'Artist Alpha Sort', 'Artist Begin Date', 'Artist End Date', 'Object Begin Date', 'Object End Date', 'Medium', 'Classification', 'Link Resource']\n",
    "\n",
    "#Create a dataframe that only contains 'painting' objects\n",
    "painting_filter = met_df['Object Name'].isin([\"Painting\"]) \n",
    "paintings = pd.DataFrame(met_df[painting_filter], columns=columns)\n",
    "\n",
    "#display counts to identify columns\n",
    "#paintings.head(1)"
   ]
  },
  {
   "cell_type": "code",
   "execution_count": 5,
   "metadata": {},
   "outputs": [
    {
     "data": {
      "text/plain": [
       "Department           5887\n",
       "Object Name          5887\n",
       "Title                5553\n",
       "Artist Alpha Sort    5654\n",
       "Artist Begin Date    5451\n",
       "Artist End Date      5454\n",
       "Object Begin Date    5887\n",
       "Object End Date      5887\n",
       "Medium               5887\n",
       "Classification       5887\n",
       "Link Resource        5887\n",
       "dtype: int64"
      ]
     },
     "execution_count": 5,
     "metadata": {},
     "output_type": "execute_result"
    }
   ],
   "source": [
    "#read out counts to identify columns with missing values - total is to have 5,887\n",
    "paintings.count()"
   ]
  },
  {
   "cell_type": "code",
   "execution_count": 6,
   "metadata": {},
   "outputs": [],
   "source": [
    "# 334 records are missing title, which we want to drop...so drop those. \n",
    "paintings = paintings.dropna(subset=['Title'])"
   ]
  },
  {
   "cell_type": "code",
   "execution_count": 7,
   "metadata": {},
   "outputs": [],
   "source": [
    "#Some of the default entries for artist birth/date are standardized to '9999', which we'll want to replace with ours ('unknown')\n",
    "#Then we discover that there are 'citation' credits that include multiple artists names and dates seperated by \"|\"\n",
    "#We only want the first/primary artist, not the citation, so we'll split str and just dump the extra\n",
    "paintings['Artist Alpha Sort'] = paintings['Artist Alpha Sort'].str.split('|', expand=True)\n",
    "paintings['Artist Begin Date'] = paintings['Artist Begin Date'].str.split('|', expand=True)\n",
    "paintings['Artist End Date'] = paintings['Artist End Date'].str.split('|', expand=True)"
   ]
  },
  {
   "cell_type": "code",
   "execution_count": 8,
   "metadata": {},
   "outputs": [],
   "source": [
    "#Split out Artist Alpha Sort into first name and last name. \n",
    "#There were hidden characters, so we had to have two extra holding columns, then delete\n",
    "paintings[['Artist_Surname', 'Artist_First_Name', 'Blank1', 'Blank2']] = paintings['Artist Alpha Sort'].str.split(\",\",expand=True)\n",
    "paintings = paintings.drop(columns=['Artist Alpha Sort','Blank1', 'Blank2'])"
   ]
  },
  {
   "cell_type": "code",
   "execution_count": 9,
   "metadata": {},
   "outputs": [],
   "source": [
    "#Still missing 111 artists and some other info, but we have all the important ones like object, medium, dept and dates and link\n",
    "#So, we still want to keep these anonymous paintings; we'll fill the missing  with 'unknown'\n",
    "paintings = paintings.fillna('Unknown')"
   ]
  },
  {
   "cell_type": "code",
   "execution_count": 10,
   "metadata": {},
   "outputs": [],
   "source": [
    "#Now we will replace the '9999' for End dates (and begin dates too just in case) \n",
    "paintings['Artist End Date'] = paintings['Artist End Date'].str.replace('9999', 'Unknown')"
   ]
  },
  {
   "cell_type": "code",
   "execution_count": 12,
   "metadata": {},
   "outputs": [],
   "source": [
    "paintings.to_csv('paintings_working_file.csv')"
   ]
  },
  {
   "cell_type": "code",
   "execution_count": 20,
   "metadata": {},
   "outputs": [
    {
     "data": {
      "text/plain": [
       "Department           5553\n",
       "Object Name          5553\n",
       "Title                5553\n",
       "Artist Begin Date    5553\n",
       "Artist End Date      5553\n",
       "Object Begin Date    5553\n",
       "Object End Date      5553\n",
       "Medium               5553\n",
       "Classification       5553\n",
       "Link Resource        5553\n",
       "Artist_Surname       5553\n",
       "Artist_First_Name    5553\n",
       "dtype: int64"
      ]
     },
     "execution_count": 20,
     "metadata": {},
     "output_type": "execute_result"
    }
   ],
   "source": [
    "paintings.count()"
   ]
  },
  {
   "cell_type": "code",
   "execution_count": 18,
   "metadata": {},
   "outputs": [
    {
     "data": {
      "text/plain": [
       "Artist_Surname       2317\n",
       "Artist_First_Name    2317\n",
       "dtype: int64"
      ]
     },
     "execution_count": 18,
     "metadata": {},
     "output_type": "execute_result"
    }
   ],
   "source": [
    "artists = pd.DataFrame(paintings, columns=['Artist_Surname','Artist_First_Name'])\n",
    "artists = artists.drop_duplicates()\n",
    "artists.count()"
   ]
  },
  {
   "cell_type": "code",
   "execution_count": 21,
   "metadata": {},
   "outputs": [],
   "source": [
    "artists.to_csv('unique_artists_for_scrape.csv')"
   ]
  },
  {
   "cell_type": "code",
   "execution_count": null,
   "metadata": {},
   "outputs": [],
   "source": [
    "artists['Artist_First_Name'] = artists['Artist_First_Name'].str.strip()"
   ]
  },
  {
   "cell_type": "code",
   "execution_count": null,
   "metadata": {},
   "outputs": [],
   "source": []
  }
 ],
 "metadata": {
  "kernelspec": {
   "display_name": "Python 3",
   "language": "python",
   "name": "python3"
  },
  "language_info": {
   "codemirror_mode": {
    "name": "ipython",
    "version": 3
   },
   "file_extension": ".py",
   "mimetype": "text/x-python",
   "name": "python",
   "nbconvert_exporter": "python",
   "pygments_lexer": "ipython3",
   "version": "3.6.8"
  }
 },
 "nbformat": 4,
 "nbformat_minor": 2
}
