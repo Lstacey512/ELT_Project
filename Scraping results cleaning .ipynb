{
 "cells": [
  {
   "cell_type": "code",
   "execution_count": 1,
   "metadata": {},
   "outputs": [],
   "source": [
    "import pandas as pd\n",
    "import numpy as np"
   ]
  },
  {
   "cell_type": "code",
   "execution_count": 17,
   "metadata": {},
   "outputs": [],
   "source": [
    "#read in the results and artist table csv\n",
    "artists = pd.read_csv('artists_table.csv')\n",
    "results = pd.read_csv('artist_scrape_results.csv')"
   ]
  },
  {
   "cell_type": "code",
   "execution_count": 18,
   "metadata": {},
   "outputs": [],
   "source": [
    "#remove junk from ends and drop holding columns\n",
    "results[['junk1', 'biography_hold']] = results['bio'].str.split(\"'\",1, expand=True)\n",
    "results[['Biography', 'junk2']] = results['biography_hold'].str.rsplit(\"'\",1, expand=True)\n",
    "results = results.drop(columns=['junk1', 'biography_hold', 'junk2', 'bio', 'header', 'Unnamed: 0'])"
   ]
  },
  {
   "cell_type": "code",
   "execution_count": 19,
   "metadata": {},
   "outputs": [],
   "source": [
    "#delete all values that contain the phrase:Other reasons this message may be displayed:\\n\n",
    "results['Biography'] = np.where(results['Biography'].str.contains('Other reasons this'), 'Biography could not be found', results['Biography'])\n",
    "results['Biography'] = np.where(results['Biography'].str.contains('may refer to:'), 'Biography could not be found', results['Biography'])"
   ]
  },
  {
   "cell_type": "code",
   "execution_count": 20,
   "metadata": {},
   "outputs": [],
   "source": [
    "#remove any images that are not .jpg\n",
    "results['image'] = np.where(results['image'].str.contains('.svg'), 'image could not be found', results['image'])"
   ]
  },
  {
   "cell_type": "code",
   "execution_count": 21,
   "metadata": {},
   "outputs": [],
   "source": [
    "#merge image and bio into artists table, drop any unneeded columns, fill in any na\n",
    "artists = artists.merge(results, left_on='Full_name', right_on='name')\n",
    "artists = artists.drop(columns=['Unnamed: 0', 'name'])\n",
    "artists['Biography'] = artists['Biography'].fillna('Biography could not be found')\n",
    "artists['image'] = artists['image'].fillna('Image could not be found')"
   ]
  },
  {
   "cell_type": "code",
   "execution_count": 22,
   "metadata": {},
   "outputs": [],
   "source": [
    "artists = artists.drop_duplicates()"
   ]
  },
  {
   "cell_type": "code",
   "execution_count": 25,
   "metadata": {},
   "outputs": [],
   "source": [
    "artists = artists.fillna('Unknown')"
   ]
  },
  {
   "cell_type": "code",
   "execution_count": 27,
   "metadata": {},
   "outputs": [],
   "source": [
    "#read final artist table into csv \n",
    "artists.to_csv('artists_table_final.csv', index=False)"
   ]
  },
  {
   "cell_type": "code",
   "execution_count": null,
   "metadata": {},
   "outputs": [],
   "source": []
  }
 ],
 "metadata": {
  "kernelspec": {
   "display_name": "Python 3",
   "language": "python",
   "name": "python3"
  },
  "language_info": {
   "codemirror_mode": {
    "name": "ipython",
    "version": 3
   },
   "file_extension": ".py",
   "mimetype": "text/x-python",
   "name": "python",
   "nbconvert_exporter": "python",
   "pygments_lexer": "ipython3",
   "version": "3.6.8"
  }
 },
 "nbformat": 4,
 "nbformat_minor": 2
}
