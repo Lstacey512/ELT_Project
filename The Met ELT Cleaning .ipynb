{
 "cells": [
  {
   "cell_type": "code",
   "execution_count": 1,
   "metadata": {},
   "outputs": [],
   "source": [
    "import pandas as pd\n",
    "import numpy as np"
   ]
  },
  {
   "cell_type": "code",
   "execution_count": 2,
   "metadata": {},
   "outputs": [
    {
     "name": "stderr",
     "output_type": "stream",
     "text": [
      "C:\\Users\\Leanne\\Anaconda2\\envs\\PythonData\\lib\\site-packages\\IPython\\core\\interactiveshell.py:3057: DtypeWarning: Columns (7,8,9,10,11,18,27,28,29,30,31,32,33,34,35,36,37,39) have mixed types. Specify dtype option on import or set low_memory=False.\n",
      "  interactivity=interactivity, compiler=compiler, result=result)\n"
     ]
    }
   ],
   "source": [
    "##Read in csv \n",
    "met_df = pd.read_csv(r'C:\\Users\\Leanne\\Desktop\\ELT_data\\MetObjects.csv')"
   ]
  },
  {
   "cell_type": "code",
   "execution_count": 26,
   "metadata": {},
   "outputs": [],
   "source": [
    "#Create a list of the columns we want to pull, based on the db schema created\n",
    "columns = ['Department','Object ID', 'Object Name', 'Title', 'Artist Alpha Sort', 'Artist Begin Date', 'Artist End Date', 'Object Begin Date', 'Object End Date', 'Medium', 'Classification', 'Link Resource']\n",
    "\n",
    "#Create a dataframe that only contains 'painting' objects\n",
    "painting_filter = met_df['Object Name'].isin([\"Painting\"]) \n",
    "paintings = pd.DataFrame(met_df[painting_filter], columns=columns)\n",
    "\n",
    "#display counts to identify columns\n",
    "#paintings.head(1)"
   ]
  },
  {
   "cell_type": "code",
   "execution_count": 27,
   "metadata": {},
   "outputs": [
    {
     "data": {
      "text/plain": [
       "Department           5887\n",
       "Object ID            5887\n",
       "Object Name          5887\n",
       "Title                5553\n",
       "Artist Alpha Sort    5654\n",
       "Artist Begin Date    5451\n",
       "Artist End Date      5454\n",
       "Object Begin Date    5887\n",
       "Object End Date      5887\n",
       "Medium               5887\n",
       "Classification       5887\n",
       "Link Resource        5887\n",
       "dtype: int64"
      ]
     },
     "execution_count": 27,
     "metadata": {},
     "output_type": "execute_result"
    }
   ],
   "source": [
    "#read out counts to identify columns with missing values - total is to have 5,887\n",
    "paintings.count()"
   ]
  },
  {
   "cell_type": "code",
   "execution_count": 28,
   "metadata": {},
   "outputs": [],
   "source": [
    "# 334 records are missing title, which we want to drop...so drop those. \n",
    "paintings = paintings.dropna(subset=['Title'])"
   ]
  },
  {
   "cell_type": "code",
   "execution_count": 29,
   "metadata": {},
   "outputs": [],
   "source": [
    "#Some of the default entries for artist birth/date are standardized to '9999', which we'll want to replace with ours ('unknown')\n",
    "#Then we discover that there are 'citation' credits that include multiple artists names and dates seperated by \"|\"\n",
    "#We only want the first/primary artist, not the citation, so we'll split str and just dump the extra\n",
    "paintings['Artist Alpha Sort'] = paintings['Artist Alpha Sort'].str.split('|', expand=True)\n",
    "paintings['Artist Begin Date'] = paintings['Artist Begin Date'].str.split('|', expand=True)\n",
    "paintings['Artist End Date'] = paintings['Artist End Date'].str.split('|', expand=True)"
   ]
  },
  {
   "cell_type": "code",
   "execution_count": 30,
   "metadata": {},
   "outputs": [],
   "source": [
    "#We read out unique values for Artist Alpha Sort. There is A LOT of junk for artist. \n",
    "#We were hoping that the Alpha Sort variable instead of the general 'Artist Name' would be more standardized for searching/indexing, etc. \n",
    "#...It's not. But there are mono-name artists (Goya, Raphael) that we risk losing if we try to parse via a delimiter like a comma"
   ]
  },
  {
   "cell_type": "code",
   "execution_count": 31,
   "metadata": {},
   "outputs": [],
   "source": [
    "#Additionally, there are some values where a nickname is in parenthesis & that we'll want to clean these too\n",
    "#I couldn't find a good way to set a start and end delimiter for a split, so at this point it might be easier to break out into first and last name\n",
    "#then split on that. \n",
    "\n",
    "#There were hidden characters, so we had to have two extra holding columns, then delete\n",
    "paintings[['Artist_Surname', 'Artist_First', 'Blank1', 'Blank2']] = paintings['Artist Alpha Sort'].str.split(\",\",expand=True)\n",
    "paintings = paintings.drop(columns=['Blank1', 'Blank2'])\n",
    "\n",
    "#Drop anything after a \"(\" for both new columns, then remove any potential spaces\n",
    "paintings['Artist_Surname'] = paintings['Artist_Surname'].str.split('(', expand=True)\n",
    "paintings['Artist_First'] = paintings['Artist_First'].str.split('(', expand=True)\n",
    "\n",
    "paintings['Artist_Surname'] = paintings['Artist_Surname'].str.strip()\n",
    "paintings['Artist_First'] = paintings['Artist_First'].str.strip()"
   ]
  },
  {
   "cell_type": "code",
   "execution_count": 32,
   "metadata": {},
   "outputs": [],
   "source": [
    "#Now create a new 'full name' to match to as a stepping-stone between artist_id and original source\n",
    "#Note that the 'blank_' is to account for single-name artists, like Raphael, Goya, etc.\n",
    "#I.e., replace Artist_clean with our new, cleaned out first + last. And then run a strip to remove any spaces, just in case\n",
    "paintings['Artist_First'] = paintings['Artist_First'].fillna(\"blank_\")\n",
    "paintings['Artist_Full_Name'] = paintings['Artist_First'].str.cat(paintings['Artist_Surname'],sep=\" \")\n",
    "paintings['Artist_Full_Name'] = paintings['Artist_Full_Name'].replace('blank_',r'', regex=True)\n",
    "paintings['Artist_Full_Name'] = paintings['Artist_Full_Name'].str.strip()"
   ]
  },
  {
   "cell_type": "code",
   "execution_count": 33,
   "metadata": {},
   "outputs": [],
   "source": [
    "#Now replace all blanks, plus junk values of '9999' for End date\n",
    "paintings['Artist End Date'] = paintings['Artist End Date'].str.replace('9999', 'Unknown')\n",
    "paintings = paintings.fillna('Unknown')"
   ]
  },
  {
   "cell_type": "code",
   "execution_count": 34,
   "metadata": {},
   "outputs": [],
   "source": [
    "#Now create a seperate artist table -- pull in full name (key), first name, surname, birth and death\n",
    "#Drop duplicates and reset_index\n",
    "artists = pd.DataFrame(paintings, columns=['Artist_Surname', 'Artist_First', 'Artist_Full_Name', 'Artist Begin Date', 'Artist End Date'])\n",
    "artists = artists.drop_duplicates()"
   ]
  },
  {
   "cell_type": "code",
   "execution_count": 35,
   "metadata": {},
   "outputs": [],
   "source": [
    "#Reset the index to get an incremental id, then save to a new columns ('Artist_id')\n",
    "artists = artists.reset_index()\n",
    "artists['Artist_id'] = artists.index\n",
    "artists = artists.drop(columns=['index'])"
   ]
  },
  {
   "cell_type": "code",
   "execution_count": 37,
   "metadata": {},
   "outputs": [],
   "source": [
    "#However, we still have to add the new artist index back to the paintings df, then remove any artist info (now duplicative)\n",
    "\n",
    "#We'll create a working df that is just full name (key) and id. Then we'll merge on full name back into paintings\n",
    "artists_id_merge = pd.DataFrame(artists, columns=['Artist_Full_Name', 'Artist_id'])\n",
    "paintings_master = paintings.merge(artists_id_merge, on='Artist_Full_Name')\n",
    "\n",
    "#Drop unnecessary artist info from paintings_master\n",
    "paintings_master = paintings_master.drop(columns=['Artist Alpha Sort','Artist_Surname', 'Artist_First', 'Artist_Full_Name', 'Artist Begin Date', 'Artist End Date'])"
   ]
  },
  {
   "cell_type": "code",
   "execution_count": 38,
   "metadata": {},
   "outputs": [],
   "source": [
    "#Now do the same thing, but with department\n",
    "department = pd.DataFrame(paintings, columns=['Department'])\n",
    "department = department.drop_duplicates()\n",
    "\n",
    "department = department.reset_index()\n",
    "department['Dept_id'] = department.index\n",
    "department = department.drop(columns=['index'])\n",
    "\n",
    "paintings_master = paintings_master.merge(department, on='Department')\n",
    "paintings_master = paintings_master.drop(columns=['Department'])"
   ]
  },
  {
   "cell_type": "code",
   "execution_count": 46,
   "metadata": {},
   "outputs": [],
   "source": [
    "#rename all columns in Paintings, Artists and Department to have underscores, so that they're all standardized\n",
    "paintings_master = paintings_master.rename(columns={'Object ID':'Object_id', 'Object Name':'Object_type','Object Begin Date':'Date_started', 'Object End Date':'Date_finished','Link Resource':'Met_link'})\n",
    "department = department.rename(columns={'Department':'Dept_name'})\n",
    "artists = artists.rename(columns={'Artist_Surname':'Surname', 'Artist_First':'First_name', 'Artist_Full_Name':'Full_name', 'Artist Begin Date':'Birth_date', 'Artist End Date':'Death_date' })"
   ]
  },
  {
   "cell_type": "code",
   "execution_count": 47,
   "metadata": {},
   "outputs": [],
   "source": [
    "#save out all tables to csv\n",
    "paintings_master.to_csv('paintings_master.csv')\n",
    "department.to_csv('department_table.csv')\n",
    "artists.to_csv('artists_table.csv')"
   ]
  },
  {
   "cell_type": "code",
   "execution_count": null,
   "metadata": {},
   "outputs": [],
   "source": []
  }
 ],
 "metadata": {
  "kernelspec": {
   "display_name": "Python 3",
   "language": "python",
   "name": "python3"
  },
  "language_info": {
   "codemirror_mode": {
    "name": "ipython",
    "version": 3
   },
   "file_extension": ".py",
   "mimetype": "text/x-python",
   "name": "python",
   "nbconvert_exporter": "python",
   "pygments_lexer": "ipython3",
   "version": "3.6.8"
  }
 },
 "nbformat": 4,
 "nbformat_minor": 2
}
